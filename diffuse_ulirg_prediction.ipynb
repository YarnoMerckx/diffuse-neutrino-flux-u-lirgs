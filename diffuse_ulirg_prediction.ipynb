{
 "cells": [
  {
   "cell_type": "code",
   "execution_count": 1,
   "id": "787be7c7",
   "metadata": {},
   "outputs": [],
   "source": [
    "import numpy as np\n",
    "from astropy import cosmology\n",
    "import matplotlib.pyplot as plt\n",
    "import astropy.units as u\n",
    "from astropy.cosmology import Planck18 as cosmo\n",
    "import astropy.constants as const\n",
    "def LoadSources(catalog_dir,\n",
    "                catalog_file=\"ULIRG_selection.txt\",\n",
    "                redshift_max=1,#0.13,\n",
    "                sinDec_min=-1.):\n",
    "    '''\n",
    "    Description\n",
    "    -----------\n",
    "    Function that reads out the catalog file of selected ULIRGs\n",
    "    and loads in the information.\n",
    "    \n",
    "    \n",
    "    Arguments\n",
    "    ---------\n",
    "    `catalog_dir`\n",
    "    type        : str\n",
    "    description : Directory of the catalog file.\n",
    "    \n",
    "    `catalog_file`\n",
    "    type        : str\n",
    "    description : Option to provide the name of the catalog file.\n",
    "    \n",
    "    `redshift_max`\n",
    "    type        : float\n",
    "    description : Option to specify the maximum redshift of the\n",
    "                  sources that are loaded.\n",
    "    \n",
    "    `sinDec_min`\n",
    "    type        : float\n",
    "    description : Option to specfify the minimum declination of the\n",
    "                  sources that are loaded.\n",
    "                  \n",
    "    Returns\n",
    "    -------\n",
    "    `ULIRGs`\n",
    "    type        : dict\n",
    "    description : Dictionary containing all the fields that are in the\n",
    "                  catalog file. In particular it contains the fields\n",
    "                  relevant for the ULIRG stacking analysis.\n",
    "    '''\n",
    "    \n",
    "    print(\"\\nLoading ULIRGs with z <= {} and sinDec >= {}\".format(redshift_max,sinDec_min))\n",
    "\n",
    "    # Open catalog file\n",
    "    catalog = open(catalog_dir+catalog_file,\"r\")\n",
    "    lines = catalog.readlines()\n",
    "\n",
    "    # Lists of relevant ULIRG parameters\n",
    "    # Easier to work with in first instance to load the ULIRG data\n",
    "    name = []\n",
    "    ra = []\n",
    "    dec = []\n",
    "    redshift = []\n",
    "    f60 = []\n",
    "    unc_f60 = []\n",
    "    lum_IR = []\n",
    "    catalog_info = []\n",
    "\n",
    "    # Read out the catalog file\n",
    "    # Assumes the structure of ULIRG_selection.txt\n",
    "    start_readout = False\n",
    "    for line in lines:\n",
    "        # Skip first lines that do not contain data\n",
    "        if start_readout == False and line[0][0] == \"1\":\n",
    "            start_readout = True\n",
    "\n",
    "        if start_readout == False:\n",
    "            continue\n",
    "\n",
    "        # Columns in the file are split with tabs\n",
    "        columns = [column for column in line.split(\"\\t\") if column != \"\"]\n",
    "\n",
    "        # Only load sources with a sinDec larger than `sinDec_min`\n",
    "        # and with redshift smaller than `redshift_max`\n",
    "        new_dec      = np.deg2rad( float(columns[3]) )\n",
    "        new_redshift = float(columns[4])\n",
    "        \n",
    "        if np.sin( new_dec ) >= sinDec_min and new_redshift <= redshift_max:\n",
    "            name.append(columns[1])\n",
    "            ra.append( np.deg2rad( float(columns[2]) ) )\n",
    "            dec.append( new_dec )\n",
    "            redshift.append(float(columns[4]))\n",
    "            f60.append(float(columns[5]))\n",
    "            unc_f60.append(float(columns[6]))\n",
    "            lum_IR.append(float(columns[7]))\n",
    "            catalog_info.append(columns[8].split(\" & \"))\n",
    "\n",
    "    catalog.close()\n",
    "\n",
    "    # Convert the lists into arrays\n",
    "    ra = np.array(ra) # [rad]\n",
    "    dec = np.array(dec) # [rad]\n",
    "    sinDec = np.sin(dec)\n",
    "    redshift = np.array(redshift)\n",
    "    f60 = np.array(f60) # [Jy]\n",
    "    unc_f60 = np.array(unc_f60) # [Jy]\n",
    "    lum_IR = np.array(lum_IR) # # [log10(L_sun)]\n",
    "\n",
    "    # Calculate the luminosity distances\n",
    "    # from the redshifts using astropy\n",
    "    # Take the Planck 15 cosmology (H_0 = 67.7 km Mpc^-1 s^-1)\n",
    "    # built in the astropy package\n",
    "    distance = np.array(cosmology.Planck15.luminosity_distance(redshift)) # [Mpc]\n",
    "\n",
    "    # Store all ULIRG parameters in one dictionary\n",
    "    ULIRGs = {\"name\"       : name,\n",
    "              \"ra\"         : ra,\n",
    "              \"dec\"        : dec,\n",
    "              \"sinDec\"     : sinDec,\n",
    "              \"redshift\"   : redshift,\n",
    "              \"distance\"   : distance,\n",
    "              \"f60\"        : f60,\n",
    "              \"unc_f60\"    : unc_f60,\n",
    "              \"log_lum_IR\" : lum_IR,\n",
    "              \"catalog\"    : catalog_info}\n",
    "\n",
    "    # Return ULIRG dictionary\n",
    "    print( \"\\nLOADED: {} ULIRGs\".format(len(ra)) )\n",
    "    return ULIRGs"
   ]
  },
  {
   "cell_type": "code",
   "execution_count": 2,
   "id": "388cec83",
   "metadata": {},
   "outputs": [
    {
     "name": "stdout",
     "output_type": "stream",
     "text": [
      "\n",
      "Loading ULIRGs with z <= 1 and sinDec >= -1.0\n",
      "\n",
      "LOADED: 189 ULIRGs\n"
     ]
    }
   ],
   "source": [
    "ULIRGs = LoadSources('./')"
   ]
  },
  {
   "cell_type": "code",
   "execution_count": 3,
   "id": "d1a449b3",
   "metadata": {},
   "outputs": [],
   "source": [
    "import pandas as pd\n",
    "import astropy.units as u\n",
    "\n",
    "data = pd.DataFrame(ULIRGs)\n",
    "def QIR(DL_compl):\n",
    "    df = pd.DataFrame(data = ULIRGs)\n",
    "    volume_limited = df[(df['distance'].values <= DL_compl)] \n",
    "    logLIR_complete_array = volume_limited['log_lum_IR'].to_numpy()\n",
    "    LIR_array = pow(10,volume_limited['log_lum_IR']).values\n",
    "    totalIR = (sum(LIR_array*u.solLum)).to(u.erg/u.yr)      \n",
    "    Dmax = DL_compl*u.Mpc \n",
    "    Volume = (4/3)*pow(Dmax,3)*np.pi \n",
    "    return [(totalIR/Volume).value,totalIR.value]"
   ]
  },
  {
   "cell_type": "code",
   "execution_count": 4,
   "id": "83a9fed3",
   "metadata": {},
   "outputs": [],
   "source": [
    "diff = [QIR(d)[0] for d in data.sort_values(by = 'distance')['distance'].values]"
   ]
  },
  {
   "cell_type": "code",
   "execution_count": 5,
   "id": "f15ff29c",
   "metadata": {},
   "outputs": [
    {
     "data": {
      "image/png": "[encoded data removed]",
      "text/plain": [
       "<Figure size 432x288 with 1 Axes>"
      ]
     },
     "metadata": {
      "needs_background": "light"
     },
     "output_type": "display_data"
    }
   ],
   "source": [
    "plt.plot(data.sort_values(by = 'distance')['distance'].values,diff,'o-',c='navy')\n",
    "plt.axvline(x = 630,c='red',ls='dashed')\n",
    "plt.ylabel('$\\\\mathcal{Q}_{\\\\mathrm{IR}}$ [erg Mpc$^{-3}$ yr$^{-1}$]', fontsize = 22)\n",
    "plt.xlabel('$D_L$ [Mpc]',fontsize = 20)\n",
    "plt.xticks(fontsize = 15)\n",
    "plt.yticks(fontsize = 15)\n",
    "plt.grid(ls ='dotted')\n",
    "plt.xscale('log')"
   ]
  },
  {
   "cell_type": "code",
   "execution_count": 6,
   "id": "ed7e6d9b",
   "metadata": {},
   "outputs": [
    {
     "data": {
      "text/plain": [
       "(array([ 0., 10., 20., 30., 40., 50., 60., 70.]),\n",
       " [Text(0, 0, ''),\n",
       "  Text(0, 0, ''),\n",
       "  Text(0, 0, ''),\n",
       "  Text(0, 0, ''),\n",
       "  Text(0, 0, ''),\n",
       "  Text(0, 0, ''),\n",
       "  Text(0, 0, ''),\n",
       "  Text(0, 0, '')])"
      ]
     },
     "execution_count": 6,
     "metadata": {},
     "output_type": "execute_result"
    },
    {
     "data": {
      "image/png": "[encoded data removed]",
      "text/plain": [
       "<Figure size 432x288 with 1 Axes>"
      ]
     },
     "metadata": {
      "needs_background": "light"
     },
     "output_type": "display_data"
    }
   ],
   "source": [
    "plt.hist(data['redshift'],color='navy',alpha = 0.8)\n",
    "plt.axvline(x=0.13,color = 'red',ls ='dashed',lw = 3)\n",
    "plt.xlabel('Redshift',fontsize = 15)\n",
    "plt.ylabel('Count',fontsize = 15)\n",
    "plt.xticks(fontsize = 15)\n",
    "plt.yticks(fontsize = 15)"
   ]
  },
  {
   "cell_type": "code",
   "execution_count": 7,
   "id": "8adca027",
   "metadata": {},
   "outputs": [],
   "source": [
    "QIR= QIR(630)[0]"
   ]
  },
  {
   "cell_type": "code",
   "execution_count": 8,
   "id": "32396a8a",
   "metadata": {},
   "outputs": [],
   "source": [
    "def nu_flux(E,eta_tot,alpha=2,QIR=QIR,fpp=1 ,Emin=1e2, Emax=1e8):\n",
    "    #alpha = 2.\n",
    "    if alpha == 2:\n",
    "        Rp = np.log(Emax/Emin)\n",
    "    else:\n",
    "        Rp = ((pow(Emin,-alpha+2)-pow(Emax,-alpha+2))/(alpha-2))*pow(E,alpha-2)    \n",
    "    diff = (QIR*eta_tot)/Rp\n",
    "    \n",
    "    xiz = 3.4\n",
    "    \n",
    "    tH = (pow(cosmo.H(0),-1)).to((u.Mpc*u.s)/u.Mpc) #inverse of Hubble parameter in seconds\n",
    "    ctH = (const.c).to(u.cm/u.s)*tH # unit: cm\n",
    "    Generation_rate_nunits = (diff*(u.erg/(pow(u.Mpc,3)*u.yr))).to(u.GeV/(pow(u.cm,3)*u.s)) #unit: GeV/(cm3 s)\n",
    "    Kpi = 0.5\n",
    "    nu_flux = ((1/3)*((ctH*xiz)/(4*np.pi))*Kpi*fpp*Generation_rate_nunits).value*1e-3# unit: TeV/(cm2 s sr)\n",
    "    return nu_flux\n",
    "\n",
    "#nu_flux = np.vectorize(nu_flux)"
   ]
  },
  {
   "cell_type": "code",
   "execution_count": 9,
   "id": "9b447761",
   "metadata": {},
   "outputs": [],
   "source": [
    "Erange = np.arange(10,1e4,1)\n",
    "ul_gamma2 = np.ones(len(Erange))*4e-12\n",
    "ulirg_predic = [nu_flux(E,0.0018) for E in Erange]"
   ]
  },
  {
   "cell_type": "code",
   "execution_count": 10,
   "id": "d5010c60",
   "metadata": {},
   "outputs": [
    {
     "data": {
      "image/png": "[encoded data removed]",
      "text/plain": [
       "<Figure size 432x288 with 1 Axes>"
      ]
     },
     "metadata": {
      "needs_background": "light"
     },
     "output_type": "display_data"
    }
   ],
   "source": [
    "\n",
    "plt.plot(Erange,ul_gamma2, c= 'red',ls = '--',lw = 3, label = 'Stacking upper limit ($\\gamma=2$)')\n",
    "plt.plot(Erange,ulirg_predic,c = 'navy',lw= 3 , label = 'Starburst-driven flux prediction')\n",
    "\n",
    "plt.ylim(1e-13,1e-11)\n",
    "\n",
    "plt.grid(ls = 'dotted')\n",
    "plt.legend(fontsize = 15)\n",
    "plt.xticks(fontsize = 15)\n",
    "plt.yticks(fontsize = 15)\n",
    "\n",
    "plt.ylabel('[TeV cm$^{-2}$ s$^{-1}$]', fontsize = 17 )\n",
    "plt.xlabel('$E_\\\\nu$ [GeV]',fontsize = 17)\n",
    "plt.yscale('log')\n",
    "plt.xscale('log')"
   ]
  },
  {
   "cell_type": "code",
   "execution_count": 11,
   "id": "82529cc9",
   "metadata": {},
   "outputs": [],
   "source": [
    "from scipy.optimize import curve_fit\n",
    "eta_tot_fit = []\n",
    "for f in np.arange(0.01,1,0.01):\n",
    "    popt, pcov = curve_fit(lambda E,eta_tot: nu_flux(E,eta_tot,alpha=2,QIR=QIR,fpp=f ,Emin=1e2, Emax=1e8)\n",
    "                           ,Erange,ul_gamma2)\n",
    "    eta_tot_fit += [popt[0]]\n",
    "    \n"
   ]
  },
  {
   "cell_type": "code",
   "execution_count": 12,
   "id": "c04398b0",
   "metadata": {},
   "outputs": [
    {
     "data": {
      "image/png": "[encoded data removed]",
      "text/plain": [
       "<Figure size 432x288 with 1 Axes>"
      ]
     },
     "metadata": {
      "needs_background": "light"
     },
     "output_type": "display_data"
    }
   ],
   "source": [
    "plt.plot(np.arange(0.01,1,0.01), eta_tot_fit)\n",
    "\n",
    "plt.yscale('log')"
   ]
  },
  {
   "cell_type": "code",
   "execution_count": 13,
   "id": "78de5f46",
   "metadata": {},
   "outputs": [
    {
     "data": {
      "text/plain": [
       "3.4995333016979114e-12"
      ]
     },
     "execution_count": 13,
     "metadata": {},
     "output_type": "execute_result"
    }
   ],
   "source": [
    "nu_flux(1,0.0018*5,alpha=2,QIR=QIR,fpp=1. ,Emin=1e2, Emax=1e8)"
   ]
  },
  {
   "cell_type": "code",
   "execution_count": null,
   "id": "c8fca786",
   "metadata": {},
   "outputs": [],
   "source": []
  }
 ],
 "metadata": {
  "kernelspec": {
   "display_name": "Python 3",
   "language": "python",
   "name": "python3"
  },
  "language_info": {
   "codemirror_mode": {
    "name": "ipython",
    "version": 3
   },
   "file_extension": ".py",
   "mimetype": "text/x-python",
   "name": "python",
   "nbconvert_exporter": "python",
   "pygments_lexer": "ipython3",
   "version": "3.8.8"
  }
 },
 "nbformat": 4,
 "nbformat_minor": 5
}
